{
 "cells": [
  {
   "cell_type": "code",
   "execution_count": 14,
   "id": "587597ad",
   "metadata": {},
   "outputs": [
    {
     "name": "stdout",
     "output_type": "stream",
     "text": [
      "{'User-Agent': 'Mozilla/5.0 (Windows NT 6.1; Win64; x64; rv:47.0) Gecko/20100101 Firefox/47.0'}\n",
      "1\n"
     ]
    }
   ],
   "source": [
    "import requests\n",
    "headers={\n",
    "    'User-Agent':'Mozilla/5.0 (Windows NT 6.1; Win64; x64; rv:47.0) Gecko/20100101 Firefox/47.0'}\n",
    "print(headers)\n",
    "source=requests.get('https://finviz.com/quote.ashx?t=TSLA',headers=headers)\n",
    "import pandas as pd\n",
    "df=pd.read_html(source.text,attrs={\n",
    "    'class':'snapshot-table2'\n",
    "})\n",
    "print(len(df))"
   ]
  },
  {
   "cell_type": "code",
   "execution_count": 17,
   "id": "6b9f852d",
   "metadata": {},
   "outputs": [],
   "source": [
    "df=df[0]"
   ]
  },
  {
   "cell_type": "code",
   "execution_count": 18,
   "id": "5ff2baf1",
   "metadata": {},
   "outputs": [
    {
     "data": {
      "text/html": [
       "<div>\n",
       "<style scoped>\n",
       "    .dataframe tbody tr th:only-of-type {\n",
       "        vertical-align: middle;\n",
       "    }\n",
       "\n",
       "    .dataframe tbody tr th {\n",
       "        vertical-align: top;\n",
       "    }\n",
       "\n",
       "    .dataframe thead th {\n",
       "        text-align: right;\n",
       "    }\n",
       "</style>\n",
       "<table border=\"1\" class=\"dataframe\">\n",
       "  <thead>\n",
       "    <tr style=\"text-align: right;\">\n",
       "      <th></th>\n",
       "      <th>0</th>\n",
       "      <th>1</th>\n",
       "      <th>2</th>\n",
       "      <th>3</th>\n",
       "      <th>4</th>\n",
       "      <th>5</th>\n",
       "      <th>6</th>\n",
       "      <th>7</th>\n",
       "      <th>8</th>\n",
       "      <th>9</th>\n",
       "      <th>10</th>\n",
       "      <th>11</th>\n",
       "    </tr>\n",
       "  </thead>\n",
       "  <tbody>\n",
       "    <tr>\n",
       "      <th>0</th>\n",
       "      <td>Index</td>\n",
       "      <td>S&amp;P 500</td>\n",
       "      <td>P/E</td>\n",
       "      <td>96.12</td>\n",
       "      <td>EPS (ttm)</td>\n",
       "      <td>7.40</td>\n",
       "      <td>Insider Own</td>\n",
       "      <td>17.26%</td>\n",
       "      <td>Shs Outstand</td>\n",
       "      <td>1.00B</td>\n",
       "      <td>Perf Week</td>\n",
       "      <td>2.29%</td>\n",
       "    </tr>\n",
       "    <tr>\n",
       "      <th>1</th>\n",
       "      <td>Market Cap</td>\n",
       "      <td>714.15B</td>\n",
       "      <td>Forward P/E</td>\n",
       "      <td>44.78</td>\n",
       "      <td>EPS next Y</td>\n",
       "      <td>15.88</td>\n",
       "      <td>Insider Trans</td>\n",
       "      <td>-5.35%</td>\n",
       "      <td>Shs Float</td>\n",
       "      <td>857.50M</td>\n",
       "      <td>Perf Month</td>\n",
       "      <td>2.07%</td>\n",
       "    </tr>\n",
       "    <tr>\n",
       "      <th>2</th>\n",
       "      <td>Income</td>\n",
       "      <td>8.40B</td>\n",
       "      <td>PEG</td>\n",
       "      <td>2.28</td>\n",
       "      <td>EPS next Q</td>\n",
       "      <td>2.24</td>\n",
       "      <td>Inst Own</td>\n",
       "      <td>43.10%</td>\n",
       "      <td>Short Float</td>\n",
       "      <td>3.16%</td>\n",
       "      <td>Perf Quarter</td>\n",
       "      <td>-27.13%</td>\n",
       "    </tr>\n",
       "    <tr>\n",
       "      <th>3</th>\n",
       "      <td>Sales</td>\n",
       "      <td>62.19B</td>\n",
       "      <td>P/S</td>\n",
       "      <td>11.48</td>\n",
       "      <td>EPS this Y</td>\n",
       "      <td>669.20%</td>\n",
       "      <td>Inst Trans</td>\n",
       "      <td>0.00%</td>\n",
       "      <td>Short Ratio</td>\n",
       "      <td>0.89</td>\n",
       "      <td>Perf Half Y</td>\n",
       "      <td>-32.79%</td>\n",
       "    </tr>\n",
       "    <tr>\n",
       "      <th>4</th>\n",
       "      <td>Book/sh</td>\n",
       "      <td>32.96</td>\n",
       "      <td>P/B</td>\n",
       "      <td>21.58</td>\n",
       "      <td>EPS next Y</td>\n",
       "      <td>34.35%</td>\n",
       "      <td>ROA</td>\n",
       "      <td>13.90%</td>\n",
       "      <td>Target Price</td>\n",
       "      <td>893.46</td>\n",
       "      <td>Perf Year</td>\n",
       "      <td>6.37%</td>\n",
       "    </tr>\n",
       "  </tbody>\n",
       "</table>\n",
       "</div>"
      ],
      "text/plain": [
       "           0        1            2      3           4        5   \\\n",
       "0       Index  S&P 500          P/E  96.12   EPS (ttm)     7.40   \n",
       "1  Market Cap  714.15B  Forward P/E  44.78  EPS next Y    15.88   \n",
       "2      Income    8.40B          PEG   2.28  EPS next Q     2.24   \n",
       "3       Sales   62.19B          P/S  11.48  EPS this Y  669.20%   \n",
       "4     Book/sh    32.96          P/B  21.58  EPS next Y   34.35%   \n",
       "\n",
       "              6       7             8        9             10       11  \n",
       "0    Insider Own  17.26%  Shs Outstand    1.00B     Perf Week    2.29%  \n",
       "1  Insider Trans  -5.35%     Shs Float  857.50M    Perf Month    2.07%  \n",
       "2       Inst Own  43.10%   Short Float    3.16%  Perf Quarter  -27.13%  \n",
       "3     Inst Trans   0.00%   Short Ratio     0.89   Perf Half Y  -32.79%  \n",
       "4            ROA  13.90%  Target Price   893.46     Perf Year    6.37%  "
      ]
     },
     "execution_count": 18,
     "metadata": {},
     "output_type": "execute_result"
    }
   ],
   "source": [
    "df.head()"
   ]
  },
  {
   "cell_type": "code",
   "execution_count": 21,
   "id": "8a1201e6",
   "metadata": {},
   "outputs": [],
   "source": [
    "df.to_csv('tesla_live.csv',index=False,header=None)"
   ]
  },
  {
   "cell_type": "code",
   "execution_count": null,
   "id": "4c781552",
   "metadata": {},
   "outputs": [],
   "source": []
  }
 ],
 "metadata": {
  "kernelspec": {
   "display_name": "Python 3 (ipykernel)",
   "language": "python",
   "name": "python3"
  },
  "language_info": {
   "codemirror_mode": {
    "name": "ipython",
    "version": 3
   },
   "file_extension": ".py",
   "mimetype": "text/x-python",
   "name": "python",
   "nbconvert_exporter": "python",
   "pygments_lexer": "ipython3",
   "version": "3.9.7"
  }
 },
 "nbformat": 4,
 "nbformat_minor": 5
}
